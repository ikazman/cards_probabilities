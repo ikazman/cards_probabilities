{
 "cells": [
  {
   "cell_type": "markdown",
   "metadata": {},
   "source": [
    "# Вычисление карточных вероятностей с помощью моделирования"
   ]
  },
  {
   "cell_type": "markdown",
   "metadata": {},
   "source": [
    "## 1. Импортируем необходимые модули и библиотеки"
   ]
  },
  {
   "cell_type": "code",
   "execution_count": 1,
   "metadata": {},
   "outputs": [],
   "source": [
    "import itertools, random\n",
    "import pandas as pd\n",
    "from scipy.stats import hypergeom"
   ]
  },
  {
   "cell_type": "markdown",
   "metadata": {},
   "source": [
    "## 2. Объявим класс для проведения экспериментов"
   ]
  },
  {
   "cell_type": "code",
   "execution_count": 2,
   "metadata": {},
   "outputs": [],
   "source": [
    "class CardProba:\n",
    "    \"\"\"\n",
    "    Рассчитываем вероятности получения различных\n",
    "    карточных комбинаций методом Монте Карло, проверяем\n",
    "    результат с помощью формулы\n",
    "    \"\"\"\n",
    "\n",
    "    def __init__(self, reps=100000):\n",
    "        \"\"\"\n",
    "        Задаем число повтоений эксперимента и\n",
    "        конструируем колоду карт\n",
    "        \"\"\"\n",
    "\n",
    "        self.reps = reps\n",
    "        self.report = pd.DataFrame(columns=['experiment', 'monte_carlo_prob', 'math_prob'])\n",
    "        self.deck = list(itertools.product(['A', 'K', 'Q', 'J', '10', '9', '8', '7', '6', '5', '4', '3', '2'], \n",
    "                                           ['Черви', 'Бубны', 'Крести', 'Пики']))\n",
    "        \n",
    "    def shuffle_deck(self):\n",
    "        \"\"\"\n",
    "        Функция для перемешивания колоды\n",
    "        \"\"\"\n",
    "\n",
    "        random.shuffle(self.deck)\n",
    "    \n",
    "    def two_aces(self):\n",
    "        \"\"\"\n",
    "        Считаем вероятность вытащить два туза из колоды карт\n",
    "        \"\"\"\n",
    "        \n",
    "        two_aces = 0\n",
    "        for _ in range(self.reps):\n",
    "            self.shuffle_deck()\n",
    "            outcome = [card[0] for card in self.deck[0:2]]\n",
    "            if outcome.count('A') == 2:\n",
    "                two_aces += 1\n",
    "        mc_result = two_aces / self.reps\n",
    "        math_result = hypergeom.pmf(k=2, M=52, n=4, N=2)\n",
    "        return ['two_aces', mc_result, math_result]\n",
    "    \n",
    "    def two_aces_from_five(self):\n",
    "        \"\"\"\n",
    "        Вероятность получить при раздаче в руку из пяти карт два туза\n",
    "        \"\"\"\n",
    "\n",
    "        two_aces = 0\n",
    "        for _ in range(self.reps):\n",
    "            self.shuffle_deck()\n",
    "            outcome = [card[0] for card in self.deck[0:5]]\n",
    "            if outcome.count('A') == 2:\n",
    "                two_aces += 1\n",
    "        mc_result = two_aces / self.reps\n",
    "        math_result = hypergeom.pmf(k=2, M=52, n=4, N=5)\n",
    "        return ['two_aces_from_five', mc_result, math_result]\n",
    "    \n",
    "    def flash(self):\n",
    "        \"\"\"\n",
    "        Вероятность получить при раздаче флэш\n",
    "        \"\"\"\n",
    "        flashes = 0\n",
    "        for _ in range(self.reps):\n",
    "            self.shuffle_deck()\n",
    "            outcome = [card[1] for card in self.deck[0:5]]\n",
    "            if len(set(outcome)) == 1:\n",
    "                flashes += 1\n",
    "        mc_result = flashes / self.reps\n",
    "        math_result = hypergeom.pmf(k=5, M=52, n=13, N=5) * 4\n",
    "        return ['flash', mc_result, math_result]\n",
    "    \n",
    "    def royal_flash(self):\n",
    "        \"\"\"\n",
    "        Вероятность получить при раздаче ройял-флэш\n",
    "        \"\"\"\n",
    "        royal_flashes = 0\n",
    "        sorted_faces = ['A','J', 'Q', 'K', '10']\n",
    "        for _ in range(self.reps):\n",
    "            self.shuffle_deck()\n",
    "            outcome_suits = [card[1] for card in self.deck[0:5]]\n",
    "            outcome_faces = sorted([card[0] for card in self.deck[0:5]])\n",
    "            if len(set(outcome_suits)) == 1 and sorted_faces == outcome_faces:\n",
    "                royal_flashes += 1\n",
    "        mc_result = royal_flashes / self.reps\n",
    "        math_result = hypergeom.pmf(k=5, M=52, n=5, N=5) * 4\n",
    "        return ['royal_flash', mc_result, math_result]\n",
    "    \n",
    "    def reporter(self):\n",
    "        local_report = [self.two_aces(), self.two_aces_from_five(), self.flash(), self.royal_flash()]\n",
    "        idx = 0       \n",
    "        for result in local_report:\n",
    "            self.report.loc[idx] = result\n",
    "            idx += 1\n",
    "        self.report['diff'] = abs(self.report.monte_carlo_prob - self.report.math_prob)"
   ]
  },
  {
   "cell_type": "markdown",
   "metadata": {},
   "source": [
    "#### - инициализируем класс"
   ]
  },
  {
   "cell_type": "code",
   "execution_count": 3,
   "metadata": {},
   "outputs": [],
   "source": [
    "mc_proba = CardProba()"
   ]
  },
  {
   "cell_type": "markdown",
   "metadata": {},
   "source": [
    "## 3. Проведем эксперименты и выведем результаты"
   ]
  },
  {
   "cell_type": "code",
   "execution_count": 4,
   "metadata": {},
   "outputs": [
    {
     "data": {
      "text/html": [
       "<div>\n",
       "<style scoped>\n",
       "    .dataframe tbody tr th:only-of-type {\n",
       "        vertical-align: middle;\n",
       "    }\n",
       "\n",
       "    .dataframe tbody tr th {\n",
       "        vertical-align: top;\n",
       "    }\n",
       "\n",
       "    .dataframe thead th {\n",
       "        text-align: right;\n",
       "    }\n",
       "</style>\n",
       "<table border=\"1\" class=\"dataframe\">\n",
       "  <thead>\n",
       "    <tr style=\"text-align: right;\">\n",
       "      <th></th>\n",
       "      <th>experiment</th>\n",
       "      <th>monte_carlo_prob</th>\n",
       "      <th>math_prob</th>\n",
       "      <th>diff</th>\n",
       "    </tr>\n",
       "  </thead>\n",
       "  <tbody>\n",
       "    <tr>\n",
       "      <th>0</th>\n",
       "      <td>two_aces</td>\n",
       "      <td>0.00474</td>\n",
       "      <td>0.004525</td>\n",
       "      <td>0.000215</td>\n",
       "    </tr>\n",
       "    <tr>\n",
       "      <th>1</th>\n",
       "      <td>two_aces_from_five</td>\n",
       "      <td>0.04034</td>\n",
       "      <td>0.039930</td>\n",
       "      <td>0.000410</td>\n",
       "    </tr>\n",
       "    <tr>\n",
       "      <th>2</th>\n",
       "      <td>flash</td>\n",
       "      <td>0.00201</td>\n",
       "      <td>0.001981</td>\n",
       "      <td>0.000029</td>\n",
       "    </tr>\n",
       "    <tr>\n",
       "      <th>3</th>\n",
       "      <td>royal_flash</td>\n",
       "      <td>0.00000</td>\n",
       "      <td>0.000002</td>\n",
       "      <td>0.000002</td>\n",
       "    </tr>\n",
       "  </tbody>\n",
       "</table>\n",
       "</div>"
      ],
      "text/plain": [
       "           experiment  monte_carlo_prob  math_prob      diff\n",
       "0            two_aces           0.00474   0.004525  0.000215\n",
       "1  two_aces_from_five           0.04034   0.039930  0.000410\n",
       "2               flash           0.00201   0.001981  0.000029\n",
       "3         royal_flash           0.00000   0.000002  0.000002"
      ]
     },
     "execution_count": 4,
     "metadata": {},
     "output_type": "execute_result"
    }
   ],
   "source": [
    "mc_proba.reporter()\n",
    "mc_proba.report"
   ]
  },
  {
   "cell_type": "markdown",
   "metadata": {},
   "source": [
    "#### Вывод:"
   ]
  },
  {
   "cell_type": "markdown",
   "metadata": {},
   "source": [
    "- результаты расчета вероятности методом Монте Карло и математичским способом практически не различаются."
   ]
  }
 ],
 "metadata": {
  "kernelspec": {
   "display_name": "Python 3",
   "language": "python",
   "name": "python3"
  },
  "language_info": {
   "codemirror_mode": {
    "name": "ipython",
    "version": 3
   },
   "file_extension": ".py",
   "mimetype": "text/x-python",
   "name": "python",
   "nbconvert_exporter": "python",
   "pygments_lexer": "ipython3",
   "version": "3.7.9"
  }
 },
 "nbformat": 4,
 "nbformat_minor": 4
}
